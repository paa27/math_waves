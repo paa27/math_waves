{
 "cells": [
  {
   "cell_type": "code",
   "execution_count": 1,
   "metadata": {},
   "outputs": [],
   "source": [
    "from standing import Standing\n",
    "import pdb\n",
    "import matplotlib.pyplot as plt\n",
    "from math import pi,sqrt,ceil,cos\n",
    "import numpy as np"
   ]
  },
  {
   "cell_type": "code",
   "execution_count": 2,
   "metadata": {},
   "outputs": [],
   "source": [
    "wave = Standing(mode=1,max_order=1,harmonics=1,\n",
    "\tparams={'h':3000.0,'g0':1.0,'sigma':1.0,'k0':pi})\n",
    "\n",
    "sol,ts = wave.solve(dt=0.001,N=10)\n",
    "\n",
    "A=0.0001*wave._k(1)\n",
    "sigma = sqrt(1 - 1/4.0*A**2 - 13/128.0*A**4)\n",
    "tsp = ts*(wave.g(1,0)*wave._k(1))**(0.5)\n",
    "a1 = (A + 3/32.0*A**3 - 137/3072.0*A**5)*np.cos(sigma*tsp) +\\\n",
    "(1/16.0*A**3 - 11/5376.0*A**5)*np.cos(3*sigma*tsp) +\\\n",
    "163/21504.0*A**5*np.cos(5*sigma*tsp)\n",
    "a1 = 1/wave._k(1)*a1\n",
    "\n",
    "wave5 = Standing(mode=1,max_order=5,harmonics=5,\n",
    "\tparams={'h':3000.0,'g0':1.0,'sigma':1.0,'k0':pi})\n",
    "\n",
    "sol5,ts5 = wave5.solve(dt=0.001,N=10,x0=np.float64([a1[0],0,0,0,0,0,0,0,0,0]))"
   ]
  },
  {
   "cell_type": "code",
   "execution_count": 10,
   "metadata": {},
   "outputs": [
    {
     "data": {
      "text/plain": [
       "array([ 0.0001,  0.    ,  0.    ,  0.    ,  0.    ,  0.    ,  0.    ,\n",
       "        0.    ,  0.    ,  0.    ])"
      ]
     },
     "execution_count": 10,
     "metadata": {},
     "output_type": "execute_result"
    }
   ],
   "source": [
    "np.float64([a1[0],0,0,0,0,0,0,0,0,0])"
   ]
  },
  {
   "cell_type": "code",
   "execution_count": null,
   "metadata": {},
   "outputs": [],
   "source": []
  }
 ],
 "metadata": {
  "kernelspec": {
   "display_name": "Python 3",
   "language": "python",
   "name": "python3"
  },
  "language_info": {
   "codemirror_mode": {
    "name": "ipython",
    "version": 3
   },
   "file_extension": ".py",
   "mimetype": "text/x-python",
   "name": "python",
   "nbconvert_exporter": "python",
   "pygments_lexer": "ipython3",
   "version": "3.6.2"
  }
 },
 "nbformat": 4,
 "nbformat_minor": 2
}
